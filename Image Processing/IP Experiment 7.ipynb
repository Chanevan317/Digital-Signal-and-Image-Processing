{
 "cells": [
  {
   "cell_type": "markdown",
   "id": "884ec292",
   "metadata": {},
   "source": [
    "# Hit or Miss Transformation on images"
   ]
  },
  {
   "cell_type": "code",
   "execution_count": null,
   "id": "512ad64e",
   "metadata": {},
   "outputs": [],
   "source": [
    "import cv2\n",
    "import numpy as np\n",
    "import matplotlib.pyplot as plt\n",
    "\n",
    "def apply_hit_or_miss(image, foreground, background):\n",
    "    # Apply Hit or Miss transformation\n",
    "    hit_or_miss_image = cv2.morphologyEx(image, cv2.MORPH_HITMISS, np.array([foreground, background], dtype=np.uint8))\n",
    "    return hit_or_miss_image\n",
    "\n",
    "# Load the input image\n",
    "image_path = 'input_image.jpg'\n",
    "input_image = cv2.imread(image_path, 0)  # Load the image in grayscale\n",
    "\n",
    "# Define the foreground and background structuring elements\n",
    "foreground = np.array([[0, 1, 0], [0, 1, 1], [0, 0, 0]], dtype=np.uint8)\n",
    "background = np.array([[1, 0, 1], [1, 0, 0], [1, 1, 1]], dtype=np.uint8)\n",
    "\n",
    "# Apply Hit or Miss transformation\n",
    "result_image = apply_hit_or_miss(input_image, foreground, background)\n",
    "\n",
    "# Display the original image and the resulting image after the transformation\n",
    "fig, axs = plt.subplots(1, 2)\n",
    "axs[0].imshow(input_image, cmap='gray')\n",
    "axs[0].set_title('Original Image')\n",
    "\n",
    "axs[1].imshow(result_image, cmap='gray')\n",
    "axs[1].set_title('Hit or Miss Transformation')\n",
    "\n",
    "for ax in axs:\n",
    "    ax.axis('off')\n",
    "\n",
    "plt.show()\n",
    "\n",
    "# Save the resulting image (optional)\n",
    "# result_path = 'result_image.jpg'\n",
    "# cv2.imwrite(result_path, result_image)\n",
    "# print(f\"Resulting image saved at: {result_path}\")"
   ]
  }
 ],
 "metadata": {
  "kernelspec": {
   "display_name": "Python 3",
   "language": "python",
   "name": "python3"
  },
  "language_info": {
   "name": "python",
   "version": "3.12.11"
  }
 },
 "nbformat": 4,
 "nbformat_minor": 5
}
