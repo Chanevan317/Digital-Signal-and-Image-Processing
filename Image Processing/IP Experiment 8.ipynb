{
 "cells": [
  {
   "cell_type": "markdown",
   "id": "a88e8305",
   "metadata": {},
   "source": [
    "# Boundary Extraction on images"
   ]
  },
  {
   "cell_type": "code",
   "execution_count": null,
   "id": "c09595bf",
   "metadata": {},
   "outputs": [],
   "source": [
    "import cv2\n",
    "import numpy as np\n",
    "import matplotlib.pyplot as plt\n",
    "\n",
    "def extract_boundary(image):\n",
    "    # Convert the image to grayscale\n",
    "    grayscale_image = cv2.cvtColor(image, cv2.COLOR_BGR2GRAY)\n",
    "\n",
    "    # Apply morphological dilation to the grayscale image\n",
    "    kernel = np.ones((3, 3), np.uint8)\n",
    "    dilated_image = cv2.dilate(grayscale_image, kernel, iterations=1)\n",
    "\n",
    "    # Subtract the grayscale image from the dilated image to obtain the boundary image\n",
    "    boundary_image = dilated_image - grayscale_image\n",
    "\n",
    "    return boundary_image\n",
    "\n",
    "# Load the input image\n",
    "image_path = 'input_image.jpg'\n",
    "input_image = cv2.imread(image_path)\n",
    "\n",
    "# Extract the boundary from the input image\n",
    "boundary_image = extract_boundary(input_image)\n",
    "\n",
    "# Display the original image and the boundary image\n",
    "fig, axs = plt.subplots(1, 2)\n",
    "axs[0].imshow(cv2.cvtColor(input_image, cv2.COLOR_BGR2RGB))\n",
    "axs[0].set_title('Original Image')\n",
    "\n",
    "axs[1].imshow(boundary_image, cmap='gray')\n",
    "axs[1].set_title('Boundary Image')\n",
    "\n",
    "for ax in axs:\n",
    "    ax.axis('off')\n",
    "\n",
    "plt.show()\n",
    "\n",
    "# Save the boundary image (optional)\n",
    "# boundary_path = 'boundary_image.jpg'\n",
    "# cv2.imwrite(boundary_path, boundary_image)\n",
    "# print(f\"Boundary image saved at: {boundary_path}\")"
   ]
  }
 ],
 "metadata": {
  "kernelspec": {
   "display_name": "Python 3",
   "language": "python",
   "name": "python3"
  },
  "language_info": {
   "name": "python",
   "version": "3.12.11"
  }
 },
 "nbformat": 4,
 "nbformat_minor": 5
}
