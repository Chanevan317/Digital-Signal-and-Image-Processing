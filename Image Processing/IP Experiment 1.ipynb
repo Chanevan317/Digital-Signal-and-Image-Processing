{
 "cells": [
  {
   "cell_type": "markdown",
   "id": "10e20027",
   "metadata": {},
   "source": [
    "# Gray Level Operations on images"
   ]
  },
  {
   "cell_type": "code",
   "execution_count": null,
   "id": "e280a035",
   "metadata": {},
   "outputs": [],
   "source": [
    "import cv2\n",
    "\n",
    "def perform_gray_level_operation(image, operation):\n",
    "    # Convert image to grayscale\n",
    "    gray_image = cv2.cvtColor(image, cv2.COLOR_BGR2GRAY)\n",
    "\n",
    "    # Perform the desired gray level operation\n",
    "    if operation == 'contrast':\n",
    "        # Perform contrast adjustment\n",
    "        contrast_image = cv2.equalizeHist(gray_image)\n",
    "        processed_image = cv2.cvtColor(contrast_image, cv2.COLOR_GRAY2BGR)\n",
    "    elif operation == 'brightness':\n",
    "        # Perform brightness correction\n",
    "        alpha = 1.5  # brightness factor\n",
    "        processed_image = cv2.convertScaleAbs(gray_image, alpha=alpha)\n",
    "        processed_image = cv2.cvtColor(processed_image, cv2.COLOR_GRAY2BGR)\n",
    "    elif operation == 'thresholding':\n",
    "        # Perform image thresholding\n",
    "        _, threshold_image = cv2.threshold(gray_image, 127, 255, cv2.THRESH_BINARY)\n",
    "        processed_image = cv2.cvtColor(threshold_image, cv2.COLOR_GRAY2BGR)\n",
    "    else:\n",
    "        print(\"Invalid operation. Available operations: 'contrast', 'brightness', 'thresholding'\")\n",
    "        return None\n",
    "\n",
    "    return processed_image\n",
    "\n",
    "# Load the input image\n",
    "image_path = 'input_image.jpg'\n",
    "input_image = cv2.imread(image_path)\n",
    "\n",
    "# Perform gray level operation\n",
    "operation_type = 'contrast'  # Change this to the desired operation: 'contrast', 'brightness', 'thresholding'\n",
    "output_image = perform_gray_level_operation(input_image, operation_type)\n",
    "\n",
    "if output_image is not None:\n",
    "    # Display the processed image\n",
    "    cv2.imshow('Processed Image', output_image)\n",
    "    cv2.waitKey(0)\n",
    "\n",
    "    # Save the processed image (optional)\n",
    "    # output_path = 'output_image.jpg'\n",
    "    # cv2.imwrite(output_path, output_image)\n",
    "    # print(f\"Processed image saved at: {output_path}\")"
   ]
  }
 ],
 "metadata": {
  "kernelspec": {
   "display_name": "Python 3",
   "language": "python",
   "name": "python3"
  },
  "language_info": {
   "codemirror_mode": {
    "name": "ipython",
    "version": 3
   },
   "file_extension": ".py",
   "mimetype": "text/x-python",
   "name": "python",
   "nbconvert_exporter": "python",
   "pygments_lexer": "ipython3",
   "version": "3.12.11"
  }
 },
 "nbformat": 4,
 "nbformat_minor": 5
}
