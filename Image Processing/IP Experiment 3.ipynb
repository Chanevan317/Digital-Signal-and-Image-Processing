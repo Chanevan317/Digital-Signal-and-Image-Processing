{
 "cells": [
  {
   "cell_type": "markdown",
   "id": "b4a3cc02",
   "metadata": {},
   "source": [
    "# Smoothing and Sharpening operation on images using Spatial Filters"
   ]
  },
  {
   "cell_type": "code",
   "execution_count": null,
   "id": "1332c4e1",
   "metadata": {},
   "outputs": [],
   "source": [
    "import cv2\n",
    "import numpy as np\n",
    "import matplotlib.pyplot as plt\n",
    "\n",
    "def apply_smoothing_filter(image, kernel_size):\n",
    "    # Apply smoothing filter to the image\n",
    "    smoothed_image = cv2.blur(image, (kernel_size, kernel_size))\n",
    "    return smoothed_image\n",
    "\n",
    "def apply_sharpening_filter(image):\n",
    "    # Create a sharpening kernel\n",
    "    kernel = np.array([[0, -1, 0], [-1, 5, -1], [0, -1, 0]])\n",
    "\n",
    "    # Apply the sharpening kernel to the image\n",
    "    sharpened_image = cv2.filter2D(image, -1, kernel)\n",
    "    return sharpened_image\n",
    "\n",
    "# Load the input image\n",
    "image_path = 'input_image.jpg'\n",
    "input_image = cv2.imread(image_path)\n",
    "\n",
    "# Apply smoothing filter\n",
    "smoothed_image = apply_smoothing_filter(input_image, kernel_size=5)\n",
    "\n",
    "# Apply sharpening filter\n",
    "sharpened_image = apply_sharpening_filter(input_image)\n",
    "\n",
    "# Display the original image and the filtered images side by side\n",
    "combined_image = np.hstack((input_image, smoothed_image, sharpened_image))\n",
    "cv2.imshow(\"Original | Smoothed | Sharpened\", combined_image)\n",
    "cv2.waitKey(0)\n",
    "\n",
    "# Save the filtered images (optional)\n",
    "# smoothed_path = 'smoothed_image.jpg'\n",
    "# sharpened_path = 'sharpened_image.jpg'\n",
    "# cv2.imwrite(smoothed_path, smoothed_image)\n",
    "# cv2.imwrite(sharpened_path, sharpened_image)\n",
    "# print(f\"Smoothed image saved at: {smoothed_path}\")\n",
    "# print(f\"Sharpened image saved at: {sharpened_path}\")\n"
   ]
  }
 ],
 "metadata": {
  "kernelspec": {
   "display_name": "Python 3",
   "language": "python",
   "name": "python3"
  },
  "language_info": {
   "name": "python",
   "version": "3.12.11"
  }
 },
 "nbformat": 4,
 "nbformat_minor": 5
}
