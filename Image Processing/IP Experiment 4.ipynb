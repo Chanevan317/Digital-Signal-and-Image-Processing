{
 "cells": [
  {
   "cell_type": "markdown",
   "id": "d84464ff",
   "metadata": {},
   "source": [
    "# Apply Non-Linear Filters on images and investigate its application in noise-removal"
   ]
  },
  {
   "cell_type": "code",
   "execution_count": null,
   "id": "e631eced",
   "metadata": {},
   "outputs": [],
   "source": [
    "import cv2\n",
    "import numpy as np\n",
    "import matplotlib.pyplot as plt\n",
    "\n",
    "def apply_median_filter(image, kernel_size):\n",
    "    # Apply median filter to remove noise\n",
    "    filtered_image = cv2.medianBlur(image, kernel_size)\n",
    "    return filtered_image\n",
    "\n",
    "def apply_bilateral_filter(image, d, sigma_color, sigma_space):\n",
    "    # Apply bilateral filter to remove noise\n",
    "    filtered_image = cv2.bilateralFilter(image, d, sigma_color, sigma_space)\n",
    "    return filtered_image\n",
    "\n",
    "# Load the input image\n",
    "image_path = 'input_image.jpg'\n",
    "input_image = cv2.imread(image_path)\n",
    "\n",
    "# Apply median filter\n",
    "median_filtered_image = apply_median_filter(input_image, kernel_size=5)\n",
    "\n",
    "# Apply bilateral filter\n",
    "bilateral_filtered_image = apply_bilateral_filter(input_image, d=9, sigma_color=75, sigma_space=75)\n",
    "\n",
    "# Display the original image and the filtered images side by side\n",
    "combined_image = np.hstack((input_image, median_filtered_image, bilateral_filtered_image))\n",
    "cv2.imshow(\"Original | Median Filtered | Bilateral Filtered\", combined_image)\n",
    "cv2.waitKey(0)\n",
    "\n",
    "# Save the filtered images (optional)\n",
    "# median_filtered_path = 'median_filtered_image.jpg'\n",
    "# bilateral_filtered_path = 'bilateral_filtered_image.jpg'\n",
    "# cv2.imwrite(median_filtered_path, median_filtered_image)\n",
    "# cv2.imwrite(bilateral_filtered_path, bilateral_filtered_image)\n",
    "# print(f\"Median filtered image saved at: {median_filtered_path}\")\n",
    "# print(f\"Bilateral filtered image saved at: {bilateral_filtered_path}\")\n"
   ]
  }
 ],
 "metadata": {
  "kernelspec": {
   "display_name": "Python 3",
   "language": "python",
   "name": "python3"
  },
  "language_info": {
   "name": "python",
   "version": "3.12.11"
  }
 },
 "nbformat": 4,
 "nbformat_minor": 5
}
